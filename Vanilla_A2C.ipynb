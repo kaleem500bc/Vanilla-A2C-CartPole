{
  "nbformat": 4,
  "nbformat_minor": 0,
  "metadata": {
    "colab": {
      "name": "Vanilla A2C.ipynb",
      "provenance": [],
      "collapsed_sections": [],
      "authorship_tag": "ABX9TyMoANHJnjeJ5wHjGdzW4YST",
      "include_colab_link": true
    },
    "kernelspec": {
      "name": "python3",
      "display_name": "Python 3"
    },
    "accelerator": "GPU"
  },
  "cells": [
    {
      "cell_type": "markdown",
      "metadata": {
        "id": "view-in-github",
        "colab_type": "text"
      },
      "source": [
        "<a href=\"https://colab.research.google.com/github/kaleem500bc/Vanilla-A2C-CartPole/blob/main/Vanilla_A2C.ipynb\" target=\"_parent\"><img src=\"https://colab.research.google.com/assets/colab-badge.svg\" alt=\"Open In Colab\"/></a>"
      ]
    },
    {
      "cell_type": "code",
      "metadata": {
        "id": "SMRsIWUurslf"
      },
      "source": [
        "\n",
        "import torch\n",
        "from torch import nn\n",
        "import gym\n",
        "from matplotlib import pyplot as plt\n",
        "from collections import deque\n",
        "import os\n",
        "from torch.distributions import Categorical\n",
        "from copy import deepcopy\n",
        "import random\n",
        "from IPython.display import clear_output\n",
        "from IPython import display\n"
      ],
      "execution_count": 2,
      "outputs": []
    },
    {
      "cell_type": "code",
      "metadata": {
        "colab": {
          "base_uri": "https://localhost:8080/"
        },
        "id": "nj_Yjt1S-e1A",
        "outputId": "211d4872-e673-460b-c540-880481d36be0"
      },
      "source": [
        "\n",
        "# make virtual screen and redirect render to this screen\n",
        "# From https://raw.githubusercontent.com/yandexdataschool/Practical_RL/master/setup_colab.sh\n",
        "!wget -q https://raw.githubusercontent.com/yandexdataschool/Practical_RL/master/setup_colab.sh -O- | bash\n",
        "!bash ../xvfb start\n",
        "os.environ['DISPLAY'] = ':1'\n"
      ],
      "execution_count": 3,
      "outputs": [
        {
          "output_type": "stream",
          "text": [
            "Starting virtual X frame buffer: Xvfb.\n"
          ],
          "name": "stdout"
        }
      ]
    },
    {
      "cell_type": "code",
      "metadata": {
        "id": "Ic3z7ICjr_Rx"
      },
      "source": [
        "\n",
        "class Actor(nn.Module):\n",
        "\n",
        "  def __init__(self, states, actions):\n",
        "    super().__init__()\n",
        "    hidden = 128\n",
        "    self.fc1 = nn.Linear(states,hidden)\n",
        "    self.fc = nn.Linear(hidden, actions)\n",
        "  \n",
        "  def get_action_distribution(self,state):\n",
        "    act = self.forward(state)\n",
        "    act_probs = Categorical(logits=act)\n",
        "    return act_probs\n",
        "\n",
        "  def get_action(self,state):\n",
        "    act_probs = self.get_action_distribution(state)\n",
        "    return act_probs.sample().item()\n",
        "\n",
        "\n",
        "\n",
        "  \n",
        "  def forward(self,x):\n",
        "    x = torch.relu(self.fc1(x))\n",
        "    x = torch.sigmoid(self.fc(x))\n",
        "    return x\n",
        "\n",
        "class Critic(nn.Module):\n",
        "  \n",
        "  def __init__(self,states):\n",
        "    super().__init__()\n",
        "    hidden = 128\n",
        "    self.act_function = nn.LeakyReLU(0.1)\n",
        "    self.fc1 = nn.Linear(states,hidden)\n",
        "    self.fc = nn.Linear(hidden,1)\n",
        "  \n",
        "  def forward(self,x):\n",
        "    x = torch.relu(self.fc1(x))\n",
        "    x = self.act_function(self.fc(x))\n",
        "    return x\n",
        "\n",
        "# Holds the information about the episode \n",
        "class ReplayBuffer():\n",
        "  def __init__(self):\n",
        "    self.mem_size = 500\n",
        "    self.memory = deque(maxlen=self.mem_size)\n",
        "    self.rewardHistory = []\n",
        "    self.stateHistory = []\n",
        "    self.actionsHistory = []\n",
        "\n"
      ],
      "execution_count": 4,
      "outputs": []
    },
    {
      "cell_type": "code",
      "metadata": {
        "id": "W-ap-i_muHTs"
      },
      "source": [
        "# Create the environment\n",
        "env = gym.make(\"CartPole-v0\")\n",
        "state = env.reset()\n",
        "n_state = env.reset().shape[0]\n",
        "n_action = env.action_space.n\n",
        "replay_buffer = ReplayBuffer()"
      ],
      "execution_count": 5,
      "outputs": []
    },
    {
      "cell_type": "code",
      "metadata": {
        "id": "-q-Xe5V3uUpu"
      },
      "source": [
        "# Create actor, critic and target critic model to stability\n",
        "actor = Actor(n_state,n_action)\n",
        "actor.to(\"cuda\")\n",
        "target_actor = deepcopy(actor)\n",
        "critic = Critic(n_state)\n",
        "critic.to(\"cuda\")\n",
        "target_critic = deepcopy(critic)"
      ],
      "execution_count": 6,
      "outputs": []
    },
    {
      "cell_type": "code",
      "metadata": {
        "id": "geIOUfleuoVt"
      },
      "source": [
        "# Used Adam optimizer\n",
        "optim_actor = torch.optim.Adam(actor.parameters(), lr = 0.0001)\n",
        "optim_critic = torch.optim.Adam(critic.parameters(), lr = 0.0001)\n",
        "\n",
        "# Mean square loss function is used as objective function\n",
        "criterion = nn.MSELoss()"
      ],
      "execution_count": 7,
      "outputs": []
    },
    {
      "cell_type": "code",
      "metadata": {
        "id": "YSqlvQxEwTRf"
      },
      "source": [
        "# Populate the replay buffer with episodes\n",
        "state = env.reset()\n",
        "for i in range(replay_buffer.mem_size):\n",
        "  act = actor.get_action(torch.tensor(state,dtype=torch.float,device=\"cuda\"))\n",
        "  next_state, reward, done, _ = env.step(act)\n",
        "  reward = reward if not done else -5\n",
        "\n",
        "  #convert to tensor\n",
        "  # state = torch.tensor(state, dtype=torch.float)\n",
        "  replay_buffer.memory.append((next_state,state,act,reward,done))\n",
        "  state = next_state\n",
        "\n",
        "  if done:\n",
        "    state = env.reset()\n",
        "\n",
        "\n",
        "\n"
      ],
      "execution_count": 8,
      "outputs": []
    },
    {
      "cell_type": "code",
      "metadata": {
        "id": "McGieRBcDB4R"
      },
      "source": [
        "\n",
        "def training(batch_size,epoch,target_critic):\n",
        "  a_loss, c_loss = [],[]\n",
        "  update_target = 0\n",
        "  for e in range(epoch):\n",
        "    for b in range(len(replay_buffer.memory)//batch_size):\n",
        "      batch = random.sample(replay_buffer.memory, batch_size)\n",
        "      critic_loss_per_epoch = 0\n",
        "      actor_loss_per_epoch = 0\n",
        "      for next_state,state, act, reward, done in batch:\n",
        "        if done:\n",
        "          actual_reward = torch.tensor(reward,dtype=torch.float,device=\"cuda\").view(1)\n",
        "        else:\n",
        "          next_q = torch.max(target_critic(torch.tensor(next_state, dtype=torch.float, device=\"cuda\")))\n",
        "          actual_reward = torch.tensor(reward+next_q,dtype=torch.float,device=\"cuda\").view(1)\n",
        "        \n",
        "        predicted_reward = critic(torch.tensor(state,dtype=torch.float,device=\"cuda\"))\n",
        "\n",
        "        # Actor loss\n",
        "\n",
        "        adv = predicted_reward.clone().detach().requires_grad_(True)-actual_reward\n",
        "        actor_probs = actor.get_action_distribution(torch.tensor(state,dtype=torch.float,device=\"cuda\")).log_prob(torch.tensor(act,device=\"cuda\"))\n",
        "        actor_loss = actor_probs * adv\n",
        "\n",
        "        # critic loss \n",
        "        critic_loss = criterion(predicted_reward.clone().detach().requires_grad_(True),actual_reward)\n",
        "\n",
        "        # Update actor model parameters\n",
        "\n",
        "        optim_actor.zero_grad()\n",
        "        actor_loss.backward()\n",
        "        optim_actor.step()\n",
        "\n",
        "        # Update critic model parameters\n",
        "        optim_critic.zero_grad()\n",
        "        critic_loss.backward()\n",
        "        optim_critic.step()\n",
        "\n",
        "        critic_loss_per_epoch += critic_loss.item()\n",
        "        actor_loss_per_epoch += actor_loss.item()\n",
        "        update_target += 1\n",
        "\n",
        "        if (update_target >= 100):\n",
        "          target_critic = deepcopy(critic)\n",
        "          update_target = 0\n",
        "\n",
        "      \n",
        "      a_loss.append(actor_loss_per_epoch)\n",
        "      c_loss.append(critic_loss_per_epoch)\n",
        "      # print(\"Critic Loss: \",critic_loss_per_epoch)\n",
        "      # print(\"Actor Loss: \",actor_loss_per_epoch)\n",
        "    # After each batch size update the target network\n",
        "\n",
        "    \n",
        "  return a_loss,c_loss\n",
        "\n",
        "\n"
      ],
      "execution_count": 9,
      "outputs": []
    },
    {
      "cell_type": "code",
      "metadata": {
        "id": "sOopy95eDUFx",
        "colab": {
          "base_uri": "https://localhost:8080/"
        },
        "outputId": "c4544944-a6e8-4adf-aaea-d4255817465e"
      },
      "source": [
        "actor_loss, critic_loss = training(100,20,target_critic)"
      ],
      "execution_count": 10,
      "outputs": [
        {
          "output_type": "stream",
          "text": [
            "/usr/local/lib/python3.6/dist-packages/ipykernel_launcher.py:15: UserWarning: To copy construct from a tensor, it is recommended to use sourceTensor.clone().detach() or sourceTensor.clone().detach().requires_grad_(True), rather than torch.tensor(sourceTensor).\n",
            "  from ipykernel import kernelapp as app\n"
          ],
          "name": "stderr"
        }
      ]
    },
    {
      "cell_type": "code",
      "metadata": {
        "colab": {
          "base_uri": "https://localhost:8080/",
          "height": 530
        },
        "id": "Y5Y0og6GY-ft",
        "outputId": "0055d6aa-9939-4213-d706-59c4d6785409"
      },
      "source": [
        "plt.plot(actor_loss,label=\"actor\",color=\"red\")\r\n",
        "plt.show()\r\n",
        "plt.plot(critic_loss,label=\"critic\",color=\"blue\")\r\n"
      ],
      "execution_count": 11,
      "outputs": [
        {
          "output_type": "display_data",
          "data": {
            "image/png": "[encoded data removed]",
            "text/plain": [
              "<Figure size 432x288 with 1 Axes>"
            ]
          },
          "metadata": {
            "tags": [],
            "needs_background": "light"
          }
        },
        {
          "output_type": "execute_result",
          "data": {
            "text/plain": [
              "[<matplotlib.lines.Line2D at 0x7fecb6b39eb8>]"
            ]
          },
          "metadata": {
            "tags": []
          },
          "execution_count": 11
        },
        {
          "output_type": "display_data",
          "data": {
            "image/png": "[encoded data removed]",
            "text/plain": [
              "<Figure size 432x288 with 1 Axes>"
            ]
          },
          "metadata": {
            "tags": [],
            "needs_background": "light"
          }
        }
      ]
    },
    {
      "cell_type": "code",
      "metadata": {
        "colab": {
          "base_uri": "https://localhost:8080/",
          "height": 538
        },
        "id": "bknT32pbJaOK",
        "outputId": "2f24675a-f19c-4ce4-d759-3f9b72f3c6c4"
      },
      "source": [
        "state = env.reset()\r\n",
        "done = False\r\n",
        "display_img = plt.imshow(env.render(\"rgb_array\"))\r\n",
        "i = 0\r\n",
        "while not done:\r\n",
        "  state = torch.tensor(state,dtype=torch.float,device=\"cuda\")\r\n",
        "  act = actor.get_action(torch.tensor(state,dtype=torch.float,device=\"cuda\"))\r\n",
        "  state, reward, done, _ = env.step(act)\r\n",
        "  if act == 0:\r\n",
        "    action_text = \"left\"\r\n",
        "    bbox_color = \"green\"\r\n",
        "  else:\r\n",
        "    action_text = \"right\"\r\n",
        "    bbox_color = \"red\"\r\n",
        "\r\n",
        "  plot_action_text = plt.text(250,80,action_text,bbox=dict(facecolor=bbox_color))\r\n",
        " \r\n",
        "  display_img.set_data(env.render(\"rgb_array\"))\r\n",
        "  clear_output(wait=True)\r\n",
        "  display.display(plt.gcf())\r\n",
        "  i += 1\r\n",
        "  plot_action_text.remove()\r\n",
        "\r\n",
        "print(\"score: \",i)"
      ],
      "execution_count": 29,
      "outputs": [
        {
          "output_type": "display_data",
          "data": {
            "image/png": "[encoded data removed]",
            "text/plain": [
              "<Figure size 432x288 with 1 Axes>"
            ]
          },
          "metadata": {
            "tags": []
          }
        },
        {
          "output_type": "stream",
          "text": [
            "score:  30\n"
          ],
          "name": "stdout"
        },
        {
          "output_type": "display_data",
          "data": {
            "image/png": "[encoded data removed]",
            "text/plain": [
              "<Figure size 432x288 with 1 Axes>"
            ]
          },
          "metadata": {
            "tags": [],
            "needs_background": "light"
          }
        }
      ]
    },
    {
      "cell_type": "code",
      "metadata": {
        "id": "jbzYTN4o0evZ"
      },
      "source": [
        ""
      ],
      "execution_count": 17,
      "outputs": []
    }
  ]
}