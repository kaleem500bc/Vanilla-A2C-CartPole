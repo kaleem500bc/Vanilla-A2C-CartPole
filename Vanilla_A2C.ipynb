{
  "nbformat": 4,
  "nbformat_minor": 0,
  "metadata": {
    "colab": {
      "name": "Vanilla A2C.ipynb",
      "provenance": [],
      "collapsed_sections": [],
      "authorship_tag": "ABX9TyNVgBYIfKTv84mjETfDqway",
      "include_colab_link": true
    },
    "kernelspec": {
      "name": "python3",
      "display_name": "Python 3"
    },
    "accelerator": "GPU"
  },
  "cells": [
    {
      "cell_type": "markdown",
      "metadata": {
        "id": "view-in-github",
        "colab_type": "text"
      },
      "source": [
        "<a href=\"https://colab.research.google.com/github/kaleem500bc/Vanilla-A2C-CartPole/blob/main/Vanilla_A2C.ipynb\" target=\"_parent\"><img src=\"https://colab.research.google.com/assets/colab-badge.svg\" alt=\"Open In Colab\"/></a>"
      ]
    },
    {
      "cell_type": "code",
      "metadata": {
        "id": "SMRsIWUurslf"
      },
      "source": [
        "\n",
        "import torch\n",
        "from torch import nn\n",
        "import gym\n",
        "from matplotlib import pyplot as plt\n",
        "from collections import deque\n",
        "import os\n",
        "from torch.distributions import Categorical\n",
        "from copy import deepcopy\n",
        "import random\n",
        "from IPython.display import clear_output\n",
        "from IPython import display\n",
        "from torch.utils.tensorboard import SummaryWriter\n"
      ],
      "execution_count": null,
      "outputs": []
    },
    {
      "cell_type": "code",
      "metadata": {
        "colab": {
          "base_uri": "https://localhost:8080/"
        },
        "id": "nj_Yjt1S-e1A",
        "outputId": "ed511fe6-b813-49ca-ec13-e5e673dc3d71"
      },
      "source": [
        "\n",
        "# make virtual screen and redirect render to this screen\n",
        "# From https://raw.githubusercontent.com/yandexdataschool/Practical_RL/master/setup_colab.sh\n",
        "!wget -q https://raw.githubusercontent.com/yandexdataschool/Practical_RL/master/setup_colab.sh -O- | bash\n",
        "!bash ../xvfb start\n",
        "os.environ['DISPLAY'] = ':1'\n"
      ],
      "execution_count": null,
      "outputs": [
        {
          "output_type": "stream",
          "text": [
            "Starting virtual X frame buffer: Xvfb.\n"
          ],
          "name": "stdout"
        }
      ]
    },
    {
      "cell_type": "code",
      "metadata": {
        "id": "Ic3z7ICjr_Rx"
      },
      "source": [
        "\n",
        "class Actor(nn.Module):\n",
        "\n",
        "  def __init__(self, states, actions):\n",
        "    super().__init__()\n",
        "    hidden = 128\n",
        "    self.fc1 = nn.Linear(states,hidden)\n",
        "    self.fc = nn.Linear(hidden, actions)\n",
        "  \n",
        "  def get_action_distribution(self,state):\n",
        "    act = self.forward(state)\n",
        "    act_probs = Categorical(logits=act)\n",
        "    return act_probs\n",
        "\n",
        "  def get_action(self,state):\n",
        "    act_probs = self.get_action_distribution(state)\n",
        "    return act_probs.sample().item()\n",
        "\n",
        "\n",
        "\n",
        "  \n",
        "  def forward(self,x):\n",
        "    x = torch.relu(self.fc1(x))\n",
        "    x = torch.softmax(self.fc(x),dim = 0)\n",
        "    return x\n",
        "\n",
        "class Critic(nn.Module):\n",
        "  \n",
        "  def __init__(self,states):\n",
        "    super().__init__()\n",
        "    hidden = 128\n",
        "    self.act_function = nn.LeakyReLU(0.1)\n",
        "    self.fc1 = nn.Linear(states,hidden)\n",
        "    self.fc = nn.Linear(hidden,1)\n",
        "  \n",
        "  def forward(self,x):\n",
        "    x = torch.relu(self.fc1(x))\n",
        "    x = self.act_function(self.fc(x))\n",
        "    return x\n",
        "\n",
        "# Holds the information about the episode \n",
        "class ReplayBuffer():\n",
        "  def __init__(self):\n",
        "    self.mem_size = 5000\n",
        "    self.memory = deque(maxlen=self.mem_size)\n",
        "    self.rewardsHistory = []\n",
        "    self.statesHistory = []\n",
        "    self.actionsHistory = []\n",
        "    self.states_rewards_actions = []\n",
        "  \n",
        "\n"
      ],
      "execution_count": null,
      "outputs": []
    },
    {
      "cell_type": "code",
      "metadata": {
        "id": "W-ap-i_muHTs"
      },
      "source": [
        "# Create the environment\n",
        "env = gym.make(\"CartPole-v0\")\n",
        "state = env.reset()\n",
        "n_state = env.reset().shape[0]\n",
        "n_action = env.action_space.n\n"
      ],
      "execution_count": null,
      "outputs": []
    },
    {
      "cell_type": "code",
      "metadata": {
        "id": "-q-Xe5V3uUpu"
      },
      "source": [
        "# Create actor, critic and target critic model to stability\n",
        "actor = Actor(n_state,n_action)\n",
        "actor.to(\"cuda\")\n",
        "target_actor = deepcopy(actor)\n",
        "critic = Critic(n_state)\n",
        "critic.to(\"cuda\")\n",
        "target_critic = deepcopy(critic)"
      ],
      "execution_count": null,
      "outputs": []
    },
    {
      "cell_type": "code",
      "metadata": {
        "id": "geIOUfleuoVt"
      },
      "source": [
        "# Used Adam optimizer\n",
        "optim_actor = torch.optim.Adam(target_actor.parameters(), lr = 0.0001)\n",
        "optim_critic = torch.optim.Adam(target_critic.parameters(), lr = 0.0001)\n",
        "\n",
        "# Mean square loss function is used as objective function\n",
        "criterion = nn.SmoothL1Loss()"
      ],
      "execution_count": null,
      "outputs": []
    },
    {
      "cell_type": "code",
      "metadata": {
        "id": "XUrFllkZZGAX"
      },
      "source": [
        "# Populate the replay buffer with episodes\r\n",
        "replay_buffer = ReplayBuffer()\r\n",
        "\r\n",
        "def populate_buffer():\r\n",
        "  state = env.reset()\r\n",
        "  rewards = []\r\n",
        "  states = [state]\r\n",
        "  actions = []\r\n",
        "  lmbda = 0.99\r\n",
        "  for i in range(200):\r\n",
        "    done = False\r\n",
        "    while not done:\r\n",
        "      act = actor.get_action(torch.tensor(state,dtype=torch.float,device=\"cuda\"))\r\n",
        "\r\n",
        "      next_state, reward, done, _ = env.step(act)\r\n",
        "      reward = reward if not done else -20        \r\n",
        "\r\n",
        "      rewards.append(reward)\r\n",
        "      states.append(next_state)\r\n",
        "      actions.append(act)\r\n",
        "      state = next_state\r\n",
        "    \r\n",
        "    discounted_rewards = []\r\n",
        "    for i in range(len(rewards)):\r\n",
        "      t = [(lmbda**j)*r for j,r in enumerate(rewards[i:i+5])]\r\n",
        "      discounted_rewards.append(t)\r\n",
        "\r\n",
        "    replay_buffer.statesHistory.append(states)\r\n",
        "    replay_buffer.rewardsHistory.append(discounted_rewards)\r\n",
        "    replay_buffer.actionsHistory.append(actions)\r\n",
        "    for i,(state,act,reward) in enumerate(zip(states[:-1], actions, discounted_rewards)):\r\n",
        "      if i+5 >= len(states):\r\n",
        "        n_state = states[len(states)-1]\r\n",
        "        lmbda_power = -1\r\n",
        "      else:\r\n",
        "        n_state = states[i+5]\r\n",
        "        lmbda_power = 5\r\n",
        "      replay_buffer.memory.append((state,act,sum(reward),n_state,lmbda_power))\r\n",
        "\r\n",
        "    actions = []\r\n",
        "    rewards = []\r\n",
        "    state = env.reset()\r\n",
        "    states = [state]\r\n",
        "\r\n",
        "\r\n",
        "populate_buffer()\r\n",
        "\r\n"
      ],
      "execution_count": null,
      "outputs": []
    },
    {
      "cell_type": "code",
      "metadata": {
        "id": "9JvyEfo_KCNC"
      },
      "source": [
        "a_loss, c_loss = [],[]"
      ],
      "execution_count": null,
      "outputs": []
    },
    {
      "cell_type": "code",
      "metadata": {
        "id": "McGieRBcDB4R"
      },
      "source": [
        "\n",
        "\n",
        "def training_One_step_TD(batch_size,epoch,target_critic,target_actor,critic,actor, optim_actor, optim_critic):\n",
        "\n",
        "  update_target = 0\n",
        "\n",
        "  # Discount\n",
        "  lmbda = 0.99\n",
        "  for e in range(epoch):\n",
        "    critic_loss_per_epoch = 0\n",
        "    actor_loss_per_epoch = 0\n",
        "    for b in range(len(replay_buffer.memory)//batch_size):\n",
        "      batch = random.sample(replay_buffer.memory, batch_size)\n",
        "      batch_critic_loss = 0\n",
        "      batch_actor_loss = 0\n",
        "      for state,act,reward,n_state,l_power in batch:\n",
        "\n",
        "        predicted_reward = target_critic(torch.tensor(state,dtype=torch.float,device=\"cuda\"))\n",
        "        # Actor loss\n",
        "        if l_power != -1:\n",
        "          expected_reward = torch.tensor(reward, dtype = torch.float, device = \"cuda\").view(1) + (lmbda ** l_power) * target_critic(torch.tensor(n_state,dtype=torch.float,device=\"cuda\")).detach()\n",
        "        else:\n",
        "          expected_reward = torch.tensor(reward, dtype = torch.float, device = \"cuda\").view(1)\n",
        "        adv = expected_reward - predicted_reward.clone().detach().requires_grad_(True)\n",
        "        act_distribution = target_actor.get_action_distribution(torch.tensor(state,dtype=torch.float,device=\"cuda\"))\n",
        "        actor_probs = act_distribution.log_prob(torch.tensor(act,device=\"cuda\"))\n",
        "        batch_actor_loss -=  actor_probs * adv\n",
        "\n",
        "        # critic loss \n",
        "        batch_critic_loss +=  criterion(predicted_reward,expected_reward)\n",
        "\n",
        "      \n",
        "      # Update actor model parameters\n",
        "\n",
        "      optim_actor.zero_grad()\n",
        "      batch_actor_loss.backward()\n",
        "      optim_actor.step()\n",
        "\n",
        "      # Update critic model parameters\n",
        "      optim_critic.zero_grad()\n",
        "      batch_critic_loss.backward()\n",
        "      optim_critic.step()\n",
        "\n",
        "      \n",
        "      if (update_target >= 30):\n",
        "        temp = critic.state_dict()\n",
        "        critic.load_state_dict(target_critic.state_dict())\n",
        "        target_critic.load_state_dict(temp)\n",
        "\n",
        "        temp = actor.state_dict()\n",
        "        actor.load_state_dict(target_actor.state_dict())\n",
        "        target_actor.load_state_dict(temp)\n",
        "\n",
        "        update_target = 0\n",
        "\n",
        "      update_target += 1\n",
        "\n",
        "      critic_loss_per_epoch += batch_critic_loss.item()\n",
        "      actor_loss_per_epoch += batch_actor_loss.item()\n",
        "\n",
        "\n",
        "      \n",
        "\n",
        "     \n",
        "\n",
        "\n",
        "\n",
        "\n",
        "    a_loss.append(actor_loss_per_epoch)\n",
        "    c_loss.append(critic_loss_per_epoch)\n",
        "      # print(\"Critic Loss: \",critic_loss_per_epoch)\n",
        "      # print(\"Actor Loss: \",actor_loss_per_epoch)\n",
        "    # After each batch size update the target network\n",
        "  return a_loss,c_loss\n",
        "\n",
        "\n"
      ],
      "execution_count": null,
      "outputs": []
    },
    {
      "cell_type": "code",
      "metadata": {
        "id": "sOopy95eDUFx"
      },
      "source": [
        "actor_loss, critic_loss = training_One_step_TD(10,30,target_critic,target_actor,critic,actor, optim_actor, optim_critic)"
      ],
      "execution_count": null,
      "outputs": []
    },
    {
      "cell_type": "code",
      "metadata": {
        "colab": {
          "base_uri": "https://localhost:8080/",
          "height": 534
        },
        "id": "gcYo3zi8ziD8",
        "outputId": "2215e9bf-5e70-418d-a12a-4590e228cd8d"
      },
      "source": [
        "plt.plot(actor_loss,label=\"actor\",color=\"red\")\r\n",
        "plt.show()\r\n",
        "plt.plot(critic_loss,label=\"critic\",color=\"blue\")"
      ],
      "execution_count": null,
      "outputs": [
        {
          "output_type": "display_data",
          "data": {
            "image/png": "[encoded data removed]",
            "text/plain": [
              "<Figure size 432x288 with 1 Axes>"
            ]
          },
          "metadata": {
            "tags": [],
            "needs_background": "light"
          }
        },
        {
          "output_type": "execute_result",
          "data": {
            "text/plain": [
              "[<matplotlib.lines.Line2D at 0x7fcd9bb589e8>]"
            ]
          },
          "metadata": {
            "tags": []
          },
          "execution_count": 142
        },
        {
          "output_type": "display_data",
          "data": {
            "image/png": "[encoded data removed]",
            "text/plain": [
              "<Figure size 432x288 with 1 Axes>"
            ]
          },
          "metadata": {
            "tags": [],
            "needs_background": "light"
          }
        }
      ]
    },
    {
      "cell_type": "code",
      "metadata": {
        "id": "Q1gw9quVCFSz"
      },
      "source": [
        "\r\n",
        "state = env.reset()\r\n",
        "done = False\r\n",
        "display_img = plt.imshow(env.render(\"rgb_array\"))\r\n",
        "i = 0\r\n",
        "act_seq = []\r\n",
        "# for j in range(100):\r\n",
        "#   state = env.reset()\r\n",
        "#   done = False\r\n",
        "while not done:\r\n",
        "  state = torch.tensor(state,dtype=torch.float,device=\"cuda\")\r\n",
        "  act = torch.argmax(actor(torch.tensor(state,dtype=torch.float,device=\"cuda\")))\r\n",
        "  state, reward, done, _ = env.step(act.item())\r\n",
        "  if act == 0:\r\n",
        "    action_text = \"left\"\r\n",
        "    bbox_color = \"green\"\r\n",
        "  else:\r\n",
        "    action_text = \"right\"\r\n",
        "    bbox_color = \"red\"\r\n",
        "  plot_action_text = plt.text(250,80,action_text,bbox=dict(facecolor=bbox_color))\r\n",
        "\r\n",
        "  display_img.set_data(env.render(\"rgb_array\"))\r\n",
        "  clear_output(wait=True)\r\n",
        "  display.display(plt.gcf())\r\n",
        "  i += 1\r\n",
        "  plot_action_text.remove()\r\n",
        "\r\n",
        "\r\n",
        "\r\n",
        "print(\"score: \",i)"
      ],
      "execution_count": null,
      "outputs": []
    }
  ]
}
